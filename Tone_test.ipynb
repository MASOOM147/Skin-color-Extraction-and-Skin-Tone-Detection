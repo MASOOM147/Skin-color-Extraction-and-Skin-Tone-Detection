{
  "cells": [
    {
      "cell_type": "markdown",
      "source": [
        "#TEST"
      ],
      "metadata": {
        "id": "_04PlFOkWLG-"
      }
    },
    {
      "cell_type": "code",
      "execution_count": null,
      "metadata": {
        "id": "vxDQ_G3QqSy2"
      },
      "outputs": [],
      "source": [
        "import cv2\n",
        "import numpy as np\n",
        "from google.colab.patches import cv2_imshow  # Import cv2_imshow from google.colab.patches\n"
      ]
    },
    {
      "cell_type": "code",
      "execution_count": null,
      "metadata": {
        "id": "hLzSyiWPqk-9"
      },
      "outputs": [],
      "source": [
        "image = cv2.imread('/content/drive/MyDrive/ML1/Skin_color_predictiion/Test/faces/faces_daatset/white/PXL_20220922_162746982.jpg')"
      ]
    },
    {
      "cell_type": "code",
      "execution_count": null,
      "metadata": {
        "id": "GRQgjEYOqz4i"
      },
      "outputs": [],
      "source": [
        "rgb_image = cv2.cvtColor(image, cv2.COLOR_BGR2RGB)\n",
        "hsv_image = cv2.cvtColor(image, cv2.COLOR_BGR2HSV)\n",
        "ycbcr_image = cv2.cvtColor(image, cv2.COLOR_BGR2YCrCb)\n"
      ]
    },
    {
      "cell_type": "code",
      "execution_count": null,
      "metadata": {
        "id": "RXmp73CJq5zH"
      },
      "outputs": [],
      "source": [
        "# Example ROI coordinates (x, y, width, height)\n",
        "roi_x, roi_y, roi_width, roi_height = 100, 100, 200, 200\n",
        "roi = hsv_image[roi_y:roi_y + roi_height, roi_x:roi_x + roi_width]\n"
      ]
    },
    {
      "cell_type": "code",
      "execution_count": null,
      "metadata": {
        "id": "auxMLiKurHSc"
      },
      "outputs": [],
      "source": [
        "mean_skin_color = np.mean(roi, axis=(0, 1))\n"
      ]
    },
    {
      "cell_type": "code",
      "execution_count": null,
      "metadata": {
        "id": "lbm6W7wTrKDP"
      },
      "outputs": [],
      "source": [
        "mean_hue = mean_skin_color[0]\n"
      ]
    },
    {
      "cell_type": "code",
      "execution_count": null,
      "metadata": {
        "colab": {
          "base_uri": "https://localhost:8080/"
        },
        "id": "HcDoXFS6rO_l",
        "outputId": "556467e7-48c5-4e1b-c20e-5f252f3a05c9"
      },
      "outputs": [
        {
          "name": "stdout",
          "output_type": "stream",
          "text": [
            "The image contains a face with a skin tone within the specified range.\n"
          ]
        }
      ],
      "source": [
        "if 5 <= mean_hue <= 20:\n",
        "    print(\"The image contains a face with a skin tone within the specified range.\")\n",
        "else:\n",
        "    print(\"The image does not contain a face with a skin tone within the specified range.\")\n"
      ]
    },
    {
      "cell_type": "code",
      "execution_count": null,
      "metadata": {
        "colab": {
          "background_save": true
        },
        "id": "FiS-AQ5_rRmT"
      },
      "outputs": [],
      "source": [
        "\n",
        "cv2.rectangle(image, (roi_x, roi_y), (roi_x + roi_width, roi_y + roi_height), (0, 255, 0), 2)\n",
        "cv2_imshow(image)\n",
        "cv2.waitKey(0)\n",
        "cv2.destroyAllWindows()\n"
      ]
    },
    {
      "cell_type": "code",
      "source": [
        "import cv2\n",
        "import numpy as np\n",
        "\n",
        "# Load the image\n",
        "image = cv2.imread('/content/drive/MyDrive/ML1/Skin_color_predictiion/Test/faces/faces_daatset/white/PXL_20220922_162746982.jpg')\n",
        "rgb_image = cv2.cvtColor(image, cv2.COLOR_BGR2RGB)"
      ],
      "metadata": {
        "id": "fCumlYOnuOgK"
      },
      "execution_count": null,
      "outputs": []
    },
    {
      "cell_type": "code",
      "source": [
        "# Calculate the mean RGB values of the entire image\n",
        "mean_r = np.mean(rgb_image[:, :, 0])\n",
        "mean_g = np.mean(rgb_image[:, :, 1])\n",
        "mean_b = np.mean(rgb_image[:, :, 2])"
      ],
      "metadata": {
        "id": "z6MyM4g2uSSY"
      },
      "execution_count": null,
      "outputs": []
    },
    {
      "cell_type": "code",
      "source": [
        "white_threshold = 200  # Adjust as needed\n",
        "fair_threshold = 180  # Adjust as needed\n",
        "light_brown_threshold = 150  # Adjust as needed\n",
        "brown_threshold = 120  # Adjust as needed\n",
        "dark_brown_threshold = 90  # Adjust as needed"
      ],
      "metadata": {
        "id": "ELz4dcPfuTnE"
      },
      "execution_count": null,
      "outputs": []
    },
    {
      "cell_type": "code",
      "execution_count": null,
      "metadata": {
        "id": "PylxPEmbtTIz"
      },
      "outputs": [],
      "source": [
        "if mean_r >= white_threshold and mean_g >= white_threshold and mean_b >= white_threshold:\n",
        "    skin_tone = \"White\"\n",
        "elif mean_r >= fair_threshold and mean_g >= fair_threshold and mean_b >= fair_threshold:\n",
        "    skin_tone = \"Fair\"\n",
        "elif mean_r >= light_brown_threshold and mean_g >= light_brown_threshold and mean_b >= light_brown_threshold:\n",
        "    skin_tone = \"Light Brown\"\n",
        "elif mean_r >= brown_threshold and mean_g >= brown_threshold and mean_b >= brown_threshold:\n",
        "    skin_tone = \"Brown\"\n",
        "elif mean_r >= dark_brown_threshold and mean_g >= dark_brown_threshold and mean_b >= dark_brown_threshold:\n",
        "    skin_tone = \"Dark Brown\"\n",
        "else:\n",
        "    skin_tone = \"Black\"\n",
        "\n"
      ]
    },
    {
      "cell_type": "code",
      "source": [
        "print(f\"Skin Tone: {skin_tone}\")"
      ],
      "metadata": {
        "colab": {
          "base_uri": "https://localhost:8080/"
        },
        "id": "5gok3_xkuX3P",
        "outputId": "18d4d168-36ee-4192-c739-3b0b68158970"
      },
      "execution_count": null,
      "outputs": [
        {
          "output_type": "stream",
          "name": "stdout",
          "text": [
            "Skin Tone: Light Brown\n"
          ]
        }
      ]
    },
    {
      "cell_type": "markdown",
      "source": [
        "#PRe_Trained_Model"
      ],
      "metadata": {
        "id": "djWU4kVHWVgI"
      }
    },
    {
      "cell_type": "code",
      "source": [
        "import cv2\n",
        "img = cv2.imread(image_path)\n",
        "img = cv2.resize(img, (224, 224))\n",
        "img = img / 255.0  # Normalize to [0, 1]\n",
        "\n"
      ],
      "metadata": {
        "id": "bS-nCpu3gOHU"
      },
      "execution_count": null,
      "outputs": []
    },
    {
      "cell_type": "code",
      "source": [
        "from tensorflow.keras.preprocessing.image import ImageDataGenerator\n",
        "\n",
        "datagen = ImageDataGenerator(\n",
        "    rotation_range=20,\n",
        "    width_shift_range=0.2,\n",
        "    height_shift_range=0.2,\n",
        "    horizontal_flip=True,\n",
        "    vertical_flip=True,\n",
        "    zoom_range=0.2,\n",
        "    shear_range=0.2,\n",
        "    fill_mode='nearest'\n",
        ")\n"
      ],
      "metadata": {
        "id": "9PBcv5CSgaJu"
      },
      "execution_count": null,
      "outputs": []
    },
    {
      "cell_type": "code",
      "source": [
        "from tensorflow.keras.applications import MobileNetV2\n",
        "from tensorflow.keras.layers import GlobalAveragePooling2D, Dense\n",
        "from tensorflow.keras.models import Model\n",
        "\n",
        "# Load pre-trained MobileNetV2 model\n",
        "base_model = MobileNetV2(weights='imagenet', include_top=False)\n"
      ],
      "metadata": {
        "id": "lEKkZeWkWZVz"
      },
      "execution_count": null,
      "outputs": []
    },
    {
      "cell_type": "code",
      "source": [
        "# Add a Global Average Pooling layer\n",
        "x = base_model.output\n",
        "x = GlobalAveragePooling2D()(x)\n",
        "\n",
        "# Add one or more fully connected (dense) layers\n",
        "x = Dense(128, activation='relu')(x)  # You can adjust the number of units\n",
        "predictions = Dense(9, activation='softmax')(x)  # 9 classes for skin tones\n"
      ],
      "metadata": {
        "id": "LIasORVwZXDV"
      },
      "execution_count": null,
      "outputs": []
    },
    {
      "cell_type": "code",
      "source": [
        "model = Model(inputs=base_model.input, outputs=predictions)\n"
      ],
      "metadata": {
        "id": "c8cql-cLZYpU"
      },
      "execution_count": null,
      "outputs": []
    },
    {
      "cell_type": "code",
      "source": [
        "# # Freeze layers in the base model\n",
        "# for layer in base_model.layers:\n",
        "#     layer.trainable = False\n"
      ],
      "metadata": {
        "id": "XTtDWgmUaKLj"
      },
      "execution_count": null,
      "outputs": []
    },
    {
      "cell_type": "code",
      "source": [
        "from tensorflow.keras.optimizers import Adam\n",
        "\n",
        "model.compile(optimizer=Adam(learning_rate=0.001),\n",
        "              loss='categorical_crossentropy',\n",
        "              metrics=['accuracy'])\n"
      ],
      "metadata": {
        "id": "YUNkDxFnaLak"
      },
      "execution_count": null,
      "outputs": []
    },
    {
      "cell_type": "code",
      "source": [
        "history = model.fit(X_train, y_train, epochs=10, validation_data=(X_val, y_val))\n"
      ],
      "metadata": {
        "id": "zgl8K9PyaPIN"
      },
      "execution_count": null,
      "outputs": []
    },
    {
      "cell_type": "code",
      "source": [
        "test_loss, test_accuracy = model.evaluate(X_test, y_test)\n"
      ],
      "metadata": {
        "id": "7IaG3fsUaRXB"
      },
      "execution_count": null,
      "outputs": []
    },
    {
      "cell_type": "code",
      "source": [
        "# Make predictions on new images\n",
        "predictions = model.predict(new_images)\n"
      ],
      "metadata": {
        "id": "edLV47TlaVs9"
      },
      "execution_count": null,
      "outputs": []
    }
  ],
  "metadata": {
    "colab": {
      "provenance": []
    },
    "kernelspec": {
      "display_name": "Python 3",
      "name": "python3"
    },
    "language_info": {
      "name": "python"
    }
  },
  "nbformat": 4,
  "nbformat_minor": 0
}